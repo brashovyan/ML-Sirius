{
 "cells": [
  {
   "cell_type": "markdown",
   "metadata": {
    "id": "w35Q6hOIy4sk"
   },
   "source": [
    "<div class=\"alert alert-success\">\n",
    "    \n",
    "## Среднее домашнее задание: сверточный классификатор.\n",
    "\n",
    "### Общая информация\n",
    "\n",
    "Дата выдачи: 10.04.2023\n",
    "\n",
    "Мягкий дедлайн: 23:59MSK 13.04.2023\n",
    "\n",
    "Жесткий дедлайн: **22:00MSK** 14.04.2023\n",
    "\n",
    "Оценка после штрафа после мягкого дедлайна вычисляется по формуле $M_{\\text{penalty}} = M_{\\text{full}} \\cdot 0.85^{t/1440}$, где $M_{\\text{full}}$ — полная оценка за работу без учета штрафа, а $t$ — время в минутах, прошедшее после мягкого дедлайна (округление до двух цифр после запятой). Таким образом, спустя первые сутки после мягкого дедлайна вы не можете получить оценку выше 8.5, а если сдать через четыре дня после мягкого дедлайна, то ваш максимум — 5.22 балла.\n",
    "    \n",
    "Если вы отправляете своё решение после мягкого дедлайна просим отписывать семинаристу в личные сообщения в тг о том, что загрузили в гугл форму. \n",
    "\n",
    "### Оценивание и штрафы\n",
    "\n",
    "Максимально допустимая оценка за работу — 10 баллов. Сдача задания после жесткого дедлайна приведет к умножению вашего результата на коэффициент 0.4, что значительно снижает итоговый результат. \n",
    "\n",
    "Задание выполняется самостоятельно. «Похожие» решения считаются плагиатом и все задействованные студенты (в том числе те, у кого списали) не могут получить за него больше 0 баллов. Обсуждать задачи вместе можно, но тогда напишите, с кем обсуждали задачу. Если вы нашли решение какого-то из заданий (или его часть) в открытом источнике, необходимо указать ссылку на этот источник в отдельном блоке в конце вашей работы (скорее всего вы будете не единственным, кто это нашел, поэтому чтобы исключить подозрение в плагиате, необходима ссылка на источник).\n",
    "\n",
    "Неэффективная реализация кода может негативно отразиться на оценке. Также оценка может быть снижена за плохо читаемый код и плохо оформленные графики. \n",
    "\n",
    "**Все ответы должны сопровождаться кодом или комментариями о том, как они были получены.**\n",
    "\n",
    "### О задании\n",
    "\n",
    "В этом задании вам предстоит познакомиться со сверточными сетями и их обучением для классификации изображений с использованием библиотеки PyTorch.\n"
   ]
  },
  {
   "cell_type": "code",
   "execution_count": 3,
   "metadata": {
    "id": "SaACifdX2QOo"
   },
   "outputs": [],
   "source": [
    "import torch\n",
    "import torch.nn as nn\n",
    "import torch.nn.functional as F\n",
    "import torch.optim as optim\n",
    "import torchvision\n",
    "import torchvision.transforms as transforms\n",
    "\n",
    "import matplotlib.pyplot as plt\n",
    "import numpy as np\n",
    "\n",
    "from sklearn.model_selection import train_test_split"
   ]
  },
  {
   "cell_type": "markdown",
   "metadata": {
    "id": "TIXaUYM-0JFl"
   },
   "source": [
    "## 0. Загрузка данных\n",
    "\n",
    "Работать мы будем с набором данных [CIFAR10](https://www.cs.toronto.edu/~kriz/cifar.html). CIFAR10 представляет собой набор изображений 32х32 пикселя, разделенных на 10 классов.\n",
    "\n",
    "![title](https://pytorch.org/tutorials/_images/cifar10.png)\n",
    "\n",
    "\n"
   ]
  },
  {
   "cell_type": "markdown",
   "metadata": {
    "id": "g-0EEjl_10vB"
   },
   "source": [
    "Набор данных уже определен в <code>torchvision.datasets</code>, так что возьмем его оттуда. \n",
    "\n"
   ]
  },
  {
   "cell_type": "code",
   "execution_count": 4,
   "metadata": {
    "id": "Cbwe92dT3aPZ"
   },
   "outputs": [],
   "source": [
    "def get_cifar10_data(batch_size, transform_train):\n",
    "    torch.manual_seed(0)\n",
    "    np.random.seed(0)\n",
    "\n",
    "    transform_test = transforms.Compose(\n",
    "        [transforms.ToTensor(),\n",
    "         # Переводим цвета пикселей в отрезок [-1, 1]\n",
    "         transforms.Normalize((0.5, 0.5, 0.5), (0.5, 0.5, 0.5))]\n",
    "    )\n",
    "    \n",
    "    # Загружаем данные\n",
    "    trainvalset = torchvision.datasets.CIFAR10(root='./data', train=True,\n",
    "                                               download=True, transform=transform_train)\n",
    "    testset = torchvision.datasets.CIFAR10(root='./data', train=False,\n",
    "                                           download=True, transform=transform_test)\n",
    "    \n",
    "    # В датасете определено разбиение только на train и test,\n",
    "    # так что валидацию дополнительно выделяем из обучающей выборки\n",
    "    train_idx, valid_idx = train_test_split(np.arange(len(trainvalset)), test_size=0.3, \n",
    "                                            shuffle=True, random_state=0)\n",
    "    trainset = torch.utils.data.Subset(trainvalset, train_idx)\n",
    "    valset = torch.utils.data.Subset(trainvalset, valid_idx)\n",
    "\n",
    "    train_loader = torch.utils.data.DataLoader(trainset, batch_size=batch_size,\n",
    "                                               shuffle=True, num_workers=2)\n",
    "    val_loader = torch.utils.data.DataLoader(valset, batch_size=batch_size,\n",
    "                                             shuffle=False, num_workers=2)\n",
    "    test_loader = torch.utils.data.DataLoader(testset, batch_size=batch_size,\n",
    "                                              shuffle=False, num_workers=2)\n",
    "    \n",
    "    return train_loader, val_loader, test_loader\n",
    "    "
   ]
  },
  {
   "cell_type": "code",
   "execution_count": 5,
   "metadata": {
    "colab": {
     "base_uri": "https://localhost:8080/",
     "height": 101,
     "referenced_widgets": [
      "aa9da821ba0c42b5b051355e50e691f0",
      "95c5696493db48738dbdc9940acec1d8",
      "fe515a1f743f49d0b251b43919d52a8e",
      "f4f339c969fd4e21bc683ecb2567897b",
      "17b2be81159e41f1a5c6bb966516572e",
      "22bb21a6c57a413fb7374efe31349e6e",
      "18b20091dbf64b129824a8fb3266e3c0",
      "9bad0d6a00c14229b0d776a2cfe15090",
      "0fee9f5b7bdb4129a71ef0cfe9d3b1fa",
      "cd991379661b4b4ab405bf66f75c6834",
      "7d238166caf64537ad9aa2040dcdc1ec"
     ]
    },
    "id": "2G2rLnN5y6Jj",
    "outputId": "542c91e6-44f6-4e26-f1e8-5df3b83fd044"
   },
   "outputs": [],
   "source": [
    "transform = transforms.Compose(\n",
    "        [transforms.ToTensor(),\n",
    "         transforms.Normalize((0.5, 0.5, 0.5), (0.5, 0.5, 0.5))]\n",
    ")\n",
    "\n",
    "train_loader, val_loader, test_loader = get_cifar10_data(batch_size=64, transform_train=transform)"
   ]
  },
  {
   "cell_type": "markdown",
   "metadata": {
    "id": "-82HWgXs77W1"
   },
   "source": [
    "Посмотрим на изображения:"
   ]
  },
  {
   "cell_type": "code",
   "execution_count": 6,
   "metadata": {
    "colab": {
     "base_uri": "https://localhost:8080/",
     "height": 155
    },
    "id": "ACnwaC5iy6L2",
    "outputId": "fd2fc631-ea7b-45f2-9728-eb1c5f9e683c"
   },
   "outputs": [
    {
     "data": {
      "image/png": "[encoded data removed]",
      "text/plain": [
       "<Figure size 640x480 with 1 Axes>"
      ]
     },
     "metadata": {},
     "output_type": "display_data"
    },
    {
     "name": "stdout",
     "output_type": "stream",
     "text": [
      "ship frog horse horse\n"
     ]
    }
   ],
   "source": [
    "def imshow(img):\n",
    "    img = img / 2 + 0.5    \n",
    "    npimg = img.numpy()\n",
    "    plt.imshow(np.transpose(npimg, (1, 2, 0)))\n",
    "    plt.show()\n",
    "\n",
    "\n",
    "dataiter = iter(train_loader)\n",
    "images, labels = next(dataiter)\n",
    "\n",
    "imshow(torchvision.utils.make_grid(images[:4]))\n",
    "\n",
    "classes = ('plane', 'car', 'bird', 'cat',\n",
    "           'deer', 'dog', 'frog', 'horse', 'ship', 'truck')\n",
    "print(*[classes[labels[i]] for i in range(4)])"
   ]
  },
  {
   "cell_type": "markdown",
   "metadata": {
    "id": "KFDilng29YZ_"
   },
   "source": [
    "## 1. Задание сверточной сети (3 балла)"
   ]
  },
  {
   "cell_type": "markdown",
   "metadata": {
    "id": "OX7Ul8YbYdQR"
   },
   "source": [
    "Теперь нам нужно задать сверточную нейронную сеть, которую мы будем обучать классифицировать изображения.\n",
    "\n",
    "Используем сеть, основанную на одном блоке архитектуры ResNet.\n",
    "\n",
    "<img src=\"https://i.ibb.co/2hg962h/basic-block.png\" width=\"500\"/>\n",
    "\n",
    "__Указания:__\n",
    "\n",
    "- Все сверточные слои должны иметь 32 выходных канала, а также не должны изменять ширину и высоту изображения.\n",
    "- Выход блока сократите до размерности 32х4х4, применив average pooling.\n",
    "- Для получения итоговых логитов, распрямите выход пулинга в вектор из 512 элементов, а затем пропустите его через линейный слой."
   ]
  },
  {
   "cell_type": "markdown",
   "metadata": {
    "id": "sbyIylT9O9Dr"
   },
   "source": [
    "**Задание 1.1 (3 балла).**\n",
    "\n",
    "Определите архитектуру сети соответственно схеме и указаниям выше.\n",
    "\n",
    "Ключевые слова: <code>Conv2d</code>, <code>BatchNorm2d</code>, <code>AvgPool2d</code>."
   ]
  },
  {
   "cell_type": "code",
   "execution_count": 7,
   "metadata": {
    "id": "s9ml1QGKy6N9"
   },
   "outputs": [],
   "source": [
    "# Подсмотрел идею тут https://github.com/kuangliu/pytorch-cifar/blob/master/models/resnet.py\n",
    "\n",
    "n_classes = 10\n",
    "\n",
    "class BasicBlockNet(nn.Module):\n",
    "    def __init__(self):\n",
    "        super(BasicBlockNet, self).__init__()\n",
    "        self.conv1 = nn.Conv2d(3, 32, kernel_size=3, padding=1)\n",
    "        self.bn1 = nn.BatchNorm2d(32)\n",
    "        self.conv2 = nn.Conv2d(32, 32, kernel_size=3, padding=1)\n",
    "        self.bn2 = nn.BatchNorm2d(32)\n",
    "        self.relu = nn.ReLU(inplace=True)\n",
    "        self.shortcut = nn.Conv2d(3, 32, kernel_size=1)\n",
    "        self.avgpool = nn.AvgPool2d(kernel_size=8)\n",
    "        self.fc1 = nn.Linear(32 * 4 * 4, 512) \n",
    "        self.fc2 = nn.Linear(512, n_classes)\n",
    "\n",
    "    def forward(self, x):\n",
    "        out = self.relu(self.bn1(self.conv1(x)))\n",
    "        out = self.bn2(self.conv2(out))\n",
    "        out += self.shortcut(x)\n",
    "        out = self.relu(out)\n",
    "\n",
    "        out = self.avgpool(out)\n",
    "        out = torch.flatten(out, 1)\n",
    "        out = self.fc1(out)\n",
    "        out = self.fc2(out)\n",
    "        return out"
   ]
  },
  {
   "cell_type": "code",
   "execution_count": 8,
   "metadata": {
    "id": "FI4BQg7Ky6Pw"
   },
   "outputs": [
    {
     "data": {
      "text/plain": [
       "BasicBlockNet(\n",
       "  (conv1): Conv2d(3, 32, kernel_size=(3, 3), stride=(1, 1), padding=(1, 1))\n",
       "  (bn1): BatchNorm2d(32, eps=1e-05, momentum=0.1, affine=True, track_running_stats=True)\n",
       "  (conv2): Conv2d(32, 32, kernel_size=(3, 3), stride=(1, 1), padding=(1, 1))\n",
       "  (bn2): BatchNorm2d(32, eps=1e-05, momentum=0.1, affine=True, track_running_stats=True)\n",
       "  (relu): ReLU(inplace=True)\n",
       "  (shortcut): Conv2d(3, 32, kernel_size=(1, 1), stride=(1, 1))\n",
       "  (avgpool): AvgPool2d(kernel_size=8, stride=8, padding=0)\n",
       "  (fc1): Linear(in_features=512, out_features=512, bias=True)\n",
       "  (fc2): Linear(in_features=512, out_features=10, bias=True)\n",
       ")"
      ]
     },
     "execution_count": 8,
     "metadata": {},
     "output_type": "execute_result"
    }
   ],
   "source": [
    "net = BasicBlockNet()\n",
    "net"
   ]
  },
  {
   "cell_type": "markdown",
   "metadata": {
    "id": "igPoGZEub8d3"
   },
   "source": [
    "Проверим, что выход сети имеет корректную размерность:"
   ]
  },
  {
   "cell_type": "code",
   "execution_count": 9,
   "metadata": {
    "id": "cCIzFUpJ_Agw"
   },
   "outputs": [],
   "source": [
    "assert net(torch.zeros((10, 3, 32, 32))).shape == (10, 10)"
   ]
  },
  {
   "cell_type": "markdown",
   "metadata": {
    "id": "08osX622cDGz"
   },
   "source": [
    "Чтобы проводить вычисления на GPU, в PyTorch необходимо руками перекладывать объекты, с которыми вы хотите проводить вычисления, на графический ускоритель. Это делается следующим образрм:"
   ]
  },
  {
   "cell_type": "code",
   "execution_count": 10,
   "metadata": {
    "id": "56hDOMCFcDZX"
   },
   "outputs": [
    {
     "name": "stdout",
     "output_type": "stream",
     "text": [
      "cuda:0\n"
     ]
    }
   ],
   "source": [
    "device = torch.device('cuda:0' if torch.cuda.is_available() else 'cpu')\n",
    "print(device)"
   ]
  },
  {
   "cell_type": "code",
   "execution_count": 11,
   "metadata": {
    "id": "ohnDWbp0qbtC"
   },
   "outputs": [],
   "source": [
    "net = net.to(device) # rtx 4060 laptop"
   ]
  },
  {
   "cell_type": "markdown",
   "metadata": {
    "id": "H_bOlTVUp5QF"
   },
   "source": [
    "Подключение GPU в google.colab:\n",
    "\n",
    "**Среда выполнения** -> **Сменить среду выполнения** -> **Аппаратный ускоритель** -> **GPU**"
   ]
  },
  {
   "cell_type": "markdown",
   "metadata": {
    "id": "AGi6XX_7_Bgg"
   },
   "source": [
    "## 2. Обучение и тестирование модели (3 балла)"
   ]
  },
  {
   "cell_type": "markdown",
   "metadata": {
    "id": "0agj_MQoO9Ds"
   },
   "source": [
    "**Задание 2.1 (2 балла).** Переходим к обучению модели. Заполните пропуски в функциях <code>test</code> и <code>train_epoch</code>. В качестве функции потерь будем использовать [кросс-энтропию](https://pytorch.org/docs/stable/generated/torch.nn.functional.cross_entropy.html), а в качестве метрики качества accuracy."
   ]
  },
  {
   "cell_type": "code",
   "execution_count": 12,
   "metadata": {
    "id": "g8gsPPRIevDS"
   },
   "outputs": [],
   "source": [
    "def test(model, loader):\n",
    "    loss_log = []\n",
    "    acc_log = []\n",
    "    model.eval()\n",
    "\n",
    "    with torch.no_grad():\n",
    "        for data, target in loader:\n",
    "            data, target = data.to(device), target.to(device)\n",
    "            y_pred = model(data)\n",
    "            loss = F.cross_entropy(y_pred, target)\n",
    "\n",
    "            loss_log.append(loss.item())\n",
    "\n",
    "            acc_log.extend((torch.argmax(y_pred, dim=-1) == target).cpu().numpy())\n",
    "            \n",
    "    return np.mean(loss_log), np.mean(acc_log)\n",
    "\n",
    "def train_epoch(model, optimizer, train_loader):\n",
    "    loss_log = []\n",
    "    acc_log = []\n",
    "    model.train()\n",
    "    \n",
    "    for data, target in train_loader:\n",
    "        data, target = data.to(device), target.to(device)\n",
    "\n",
    "        y_pred = model(data)\n",
    "\n",
    "        loss = F.cross_entropy(y_pred, target)\n",
    "        loss.backward()\n",
    "        optimizer.step()\n",
    "        optimizer.zero_grad()\n",
    "       \n",
    "        loss_log.append(loss.item())\n",
    "\n",
    "        acc_log.extend((torch.argmax(y_pred, dim=-1) == target).cpu().numpy())\n",
    "\n",
    "    return loss_log, acc_log\n",
    "\n",
    "def train(model, optimizer, n_epochs, train_loader, val_loader, scheduler=None):\n",
    "    train_loss_log, train_acc_log, val_loss_log, val_acc_log = [], [], [], []\n",
    "\n",
    "    for epoch in range(n_epochs):\n",
    "        train_loss, train_acc = train_epoch(model, optimizer, train_loader)\n",
    "        val_loss, val_acc = test(model, val_loader)\n",
    "        \n",
    "        #train_loss_log.extend(train_loss)\n",
    "        #train_acc_log.extend(train_acc)\n",
    "        \n",
    "        # Это нужно для красивого графика по заданию ниже\n",
    "        train_loss_log.append(np.mean(train_loss))\n",
    "        train_acc_log.append(np.mean(train_acc))\n",
    "\n",
    "        val_loss_log.append(val_loss)\n",
    "        val_acc_log.append(val_acc)\n",
    "\n",
    "        print(f\"Epoch {epoch}\")\n",
    "\n",
    "        print(f\" train loss: {np.mean(train_loss)}, train acc: {np.mean(train_acc)}\")\n",
    "        print(f\" val loss: {val_loss}, val acc: {val_acc}\\n\")\n",
    "        \n",
    "        if scheduler is not None:\n",
    "            scheduler.step()\n",
    "\n",
    "    return train_loss_log, train_acc_log, val_loss_log, val_acc_log"
   ]
  },
  {
   "cell_type": "markdown",
   "metadata": {
    "id": "iSOqk_CAO9Dt"
   },
   "source": [
    "Запустим обучение модели. В качестве оптимизатора будем использовать стохастический градиентный спуск, который является де-факто стандартом в задачах компьютерного зрения (наравне с <code>Adam</code>).\n",
    "\n",
    "__Замечание:__ Для достижения наилучшего качества в нашем случае потребуется обучать модель несколько сотен эпох. Однако в целях экономии вашего времени и сил, во всех экспериментах мы ограничимся 20 эпохами."
   ]
  },
  {
   "cell_type": "code",
   "execution_count": 13,
   "metadata": {
    "id": "MKZBGhuAgMDu",
    "scrolled": true
   },
   "outputs": [
    {
     "name": "stdout",
     "output_type": "stream",
     "text": [
      "Epoch 0\n",
      " train loss: 1.4825652007428993, train acc: 0.46625714285714287\n",
      " val loss: 1.2482415392043742, val acc: 0.5557333333333333\n",
      "\n",
      "Epoch 1\n",
      " train loss: 1.1782782784981527, train acc: 0.5835142857142858\n",
      " val loss: 1.1773147200016265, val acc: 0.5979333333333333\n",
      "\n",
      "Epoch 2\n",
      " train loss: 1.0819144102947367, train acc: 0.6222285714285715\n",
      " val loss: 1.1402004749216932, val acc: 0.6056\n",
      "\n",
      "Epoch 3\n",
      " train loss: 1.037219033598682, train acc: 0.6377142857142857\n",
      " val loss: 1.0039411433199619, val acc: 0.6519333333333334\n",
      "\n",
      "Epoch 4\n",
      " train loss: 1.0021906954932693, train acc: 0.6500285714285714\n",
      " val loss: 0.9804739916578252, val acc: 0.658\n",
      "\n",
      "Epoch 5\n",
      " train loss: 0.9776343091968208, train acc: 0.6570571428571429\n",
      " val loss: 0.9819344812251152, val acc: 0.6642666666666667\n",
      "\n",
      "Epoch 6\n",
      " train loss: 0.9507770478398534, train acc: 0.6651428571428571\n",
      " val loss: 0.9721200849147553, val acc: 0.6644\n",
      "\n",
      "Epoch 7\n",
      " train loss: 0.9353831062805065, train acc: 0.6746571428571428\n",
      " val loss: 0.9570333465616754, val acc: 0.6684\n",
      "\n",
      "Epoch 8\n",
      " train loss: 0.9213484470107656, train acc: 0.6793714285714286\n",
      " val loss: 1.021329960924514, val acc: 0.6511333333333333\n",
      "\n",
      "Epoch 9\n",
      " train loss: 0.9097595188691804, train acc: 0.6836285714285715\n",
      " val loss: 0.9572959527056268, val acc: 0.6748666666666666\n",
      "\n",
      "Epoch 10\n",
      " train loss: 0.9045833150364145, train acc: 0.6853714285714285\n",
      " val loss: 1.0888941166248727, val acc: 0.6361333333333333\n",
      "\n",
      "Epoch 11\n",
      " train loss: 0.8810548053363123, train acc: 0.6955142857142858\n",
      " val loss: 0.9365123660006421, val acc: 0.6755333333333333\n",
      "\n",
      "Epoch 12\n",
      " train loss: 0.8700808929568888, train acc: 0.6984571428571429\n",
      " val loss: 0.9279563442189642, val acc: 0.6768666666666666\n",
      "\n",
      "Epoch 13\n",
      " train loss: 0.862320782878935, train acc: 0.6998\n",
      " val loss: 0.9641851097979444, val acc: 0.6681333333333334\n",
      "\n",
      "Epoch 14\n",
      " train loss: 0.8490997152420023, train acc: 0.7034285714285714\n",
      " val loss: 0.9149130430627377, val acc: 0.6896666666666667\n",
      "\n",
      "Epoch 15\n",
      " train loss: 0.8447420402571314, train acc: 0.704\n",
      " val loss: 0.9546747141696037, val acc: 0.6732\n",
      "\n",
      "Epoch 16\n",
      " train loss: 0.8457826859772314, train acc: 0.7051142857142857\n",
      " val loss: 0.8999252765736682, val acc: 0.6884\n",
      "\n",
      "Epoch 17\n",
      " train loss: 0.8302466480344044, train acc: 0.7116857142857143\n",
      " val loss: 0.9107288949033048, val acc: 0.6904666666666667\n",
      "\n",
      "Epoch 18\n",
      " train loss: 0.8210004107716751, train acc: 0.7132285714285714\n",
      " val loss: 0.9302424397874386, val acc: 0.677\n",
      "\n",
      "Epoch 19\n",
      " train loss: 0.8130117223838129, train acc: 0.715\n",
      " val loss: 0.9053345243981544, val acc: 0.6874\n",
      "\n"
     ]
    }
   ],
   "source": [
    "optimizer = optim.SGD(net.parameters(), lr=0.1, momentum=0.9)\n",
    "train_loss_log, train_acc_log, val_loss_log, val_acc_log = train(net, optimizer, 20, train_loader, val_loader)"
   ]
  },
  {
   "cell_type": "markdown",
   "metadata": {
    "id": "gUb1jQW8O9Dt"
   },
   "source": [
    "Посчитайте точность на тестовой выборке:"
   ]
  },
  {
   "cell_type": "code",
   "execution_count": 14,
   "metadata": {
    "id": "Jyuc55B9_Amc"
   },
   "outputs": [
    {
     "name": "stdout",
     "output_type": "stream",
     "text": [
      " test loss: 0.9127130599538232, test acc: 0.6833\n"
     ]
    }
   ],
   "source": [
    "def testAccuracy(model, test_data):\n",
    "    model = model.eval()\n",
    "    loss_log = []\n",
    "    acc_log = []\n",
    "\n",
    "    with torch.no_grad():\n",
    "        for data, target in test_data:\n",
    "            data, target = data.to(device), target.to(device)\n",
    "            y_pred = model(data)\n",
    "            loss = F.cross_entropy(y_pred, target)\n",
    "            \n",
    "            loss_log.append(loss.item())\n",
    "\n",
    "            acc_log.extend((torch.argmax(y_pred, dim=-1) == target).cpu().numpy())\n",
    "            \n",
    "    return np.mean(loss_log), np.mean(acc_log)\n",
    "\n",
    "test_loss, test_accuracy = testAccuracy(net, test_loader)\n",
    "print(f\" test loss: {test_loss}, test acc: {test_accuracy}\")"
   ]
  },
  {
   "cell_type": "markdown",
   "metadata": {
    "id": "zM38Q9fwO9Dt"
   },
   "source": [
    "Если вы все сделали правильно, у вас должна была получиться точность $\\ge 67\\%$."
   ]
  },
  {
   "cell_type": "markdown",
   "metadata": {
    "id": "DHFNSKcoO9Dt"
   },
   "source": [
    "**Задание 2.2 (1 балл).** Постройте графики зависимости функции потерь и точности классификации от номера шага оптимизатора. На каждом графике расположите данные и для обучающей и для валидационной выборки, итого у вас должно получиться два графика. Обратите внимание, что на обучающей выборке эти данные считаются по каждому батчу, на валидационной же они считаются по всей выборке раз в эпоху."
   ]
  },
  {
   "cell_type": "code",
   "execution_count": 16,
   "metadata": {
    "id": "LzIP0tGLO9Dt"
   },
   "outputs": [
    {
     "data": {
      "image/png": "[encoded data removed]",
      "text/plain": [
       "<Figure size 1200x600 with 2 Axes>"
      ]
     },
     "metadata": {},
     "output_type": "display_data"
    }
   ],
   "source": [
    "# Plotting\n",
    "plt.figure(figsize=(12, 6))\n",
    "plt.subplot(1, 2, 1)\n",
    "plt.plot(train_loss_log, label='Train Loss')\n",
    "plt.plot(val_loss_log, label='Validation Loss')\n",
    "plt.xlabel('Epoch')\n",
    "plt.ylabel('Loss')\n",
    "plt.title('Loss vs. Epoch')\n",
    "plt.legend()\n",
    "\n",
    "plt.subplot(1, 2, 2)\n",
    "plt.plot(train_acc_log, label='Train Accuracy')\n",
    "plt.plot(val_acc_log, label='Validation Accuracy')\n",
    "plt.xlabel('Epoch')\n",
    "plt.ylabel('Accuracy')\n",
    "plt.title('Accuracy vs. Epoch')\n",
    "plt.legend()\n",
    "\n",
    "plt.tight_layout()\n",
    "plt.show()"
   ]
  },
  {
   "cell_type": "markdown",
   "metadata": {
    "id": "_ttOJPj-O9Dt"
   },
   "source": [
    "## 3. Расписание длины шага (2 балла)"
   ]
  },
  {
   "cell_type": "markdown",
   "metadata": {
    "id": "qiz3JstuO9Dt"
   },
   "source": [
    "С первой недели модуля Вы уже должны знать, что сходимость стохастического градиентного спуска мы можем теоретически гарантировать только если будем определенным образом со временем уменьшать длину шага. На практике при обучении нейронных сетей такая техника оказывается очень полезной, однако теоретически обоснованными способами уменьшения длины шага фантазия не ограничивается.\n",
    "\n",
    "Одним из простейших способов является кусочно постоянная функция: на нескольких фиксированных эпохах уменьшаем длину шага в константу раз."
   ]
  },
  {
   "cell_type": "code",
   "execution_count": 17,
   "metadata": {
    "id": "V2Z0OT3nO9Du"
   },
   "outputs": [
    {
     "name": "stdout",
     "output_type": "stream",
     "text": [
      "Epoch 0\n",
      " train loss: 1.502648931752611, train acc: 0.4572857142857143\n",
      " val loss: 1.2698249910740143, val acc: 0.5527333333333333\n",
      "\n",
      "Epoch 1\n",
      " train loss: 1.193115964777073, train acc: 0.5812571428571428\n",
      " val loss: 1.0934830348542397, val acc: 0.6206\n",
      "\n",
      "Epoch 2\n",
      " train loss: 1.0958112413966024, train acc: 0.6177714285714285\n",
      " val loss: 1.1004586260369484, val acc: 0.6172666666666666\n",
      "\n",
      "Epoch 3\n",
      " train loss: 1.042651822950548, train acc: 0.6358857142857143\n",
      " val loss: 1.1515024639190512, val acc: 0.6121333333333333\n",
      "\n",
      "Epoch 4\n",
      " train loss: 1.0086047933785964, train acc: 0.6496\n",
      " val loss: 1.1679287357533232, val acc: 0.5872666666666667\n",
      "\n",
      "Epoch 5\n",
      " train loss: 0.978132386203222, train acc: 0.6584571428571429\n",
      " val loss: 0.9783524419399018, val acc: 0.6608666666666667\n",
      "\n",
      "Epoch 6\n",
      " train loss: 0.9631853039347493, train acc: 0.664\n",
      " val loss: 1.0333353811122001, val acc: 0.6344\n",
      "\n",
      "Epoch 7\n",
      " train loss: 0.9412416851716678, train acc: 0.6740285714285714\n",
      " val loss: 1.0402740118351388, val acc: 0.6584666666666666\n",
      "\n",
      "Epoch 8\n",
      " train loss: 0.9289488025295669, train acc: 0.6769428571428572\n",
      " val loss: 0.9714727558988205, val acc: 0.6642\n",
      "\n",
      "Epoch 9\n",
      " train loss: 0.9137074816597445, train acc: 0.6798\n",
      " val loss: 0.9428014549803226, val acc: 0.6726\n",
      "\n",
      "Epoch 10\n",
      " train loss: 0.7721257432614209, train acc: 0.7311142857142857\n",
      " val loss: 0.8455342759477331, val acc: 0.7103333333333334\n",
      "\n",
      "Epoch 11\n",
      " train loss: 0.7530212676394357, train acc: 0.7368857142857143\n",
      " val loss: 0.8416066072088607, val acc: 0.7098\n",
      "\n",
      "Epoch 12\n",
      " train loss: 0.7445254251224686, train acc: 0.7403714285714286\n",
      " val loss: 0.8343889543350707, val acc: 0.7144\n",
      "\n",
      "Epoch 13\n",
      " train loss: 0.7408255635602383, train acc: 0.7423142857142857\n",
      " val loss: 0.8345525075780584, val acc: 0.7140666666666666\n",
      "\n",
      "Epoch 14\n",
      " train loss: 0.7388495244971142, train acc: 0.7428\n",
      " val loss: 0.8447774222556581, val acc: 0.7118666666666666\n",
      "\n",
      "Epoch 15\n",
      " train loss: 0.7188462951174602, train acc: 0.7511142857142857\n",
      " val loss: 0.8231222855283858, val acc: 0.7172\n",
      "\n",
      "Epoch 16\n",
      " train loss: 0.7180252599868739, train acc: 0.7523142857142857\n",
      " val loss: 0.8240210138736888, val acc: 0.7181333333333333\n",
      "\n",
      "Epoch 17\n",
      " train loss: 0.716083607845812, train acc: 0.7520285714285714\n",
      " val loss: 0.8235318287890008, val acc: 0.7167333333333333\n",
      "\n",
      "Epoch 18\n",
      " train loss: 0.7142952905058643, train acc: 0.7514857142857143\n",
      " val loss: 0.824300265058558, val acc: 0.7166666666666667\n",
      "\n",
      "Epoch 19\n",
      " train loss: 0.7129008086224579, train acc: 0.7522\n",
      " val loss: 0.823548691323463, val acc: 0.7184\n",
      "\n"
     ]
    }
   ],
   "source": [
    "net = BasicBlockNet().to(device)\n",
    "optimizer = optim.SGD(net.parameters(), lr=0.1, momentum=0.9)\n",
    "scheduler = optim.lr_scheduler.MultiStepLR(optimizer, milestones=[10, 15], gamma=0.1)\n",
    "tr_loss_log, tr_acc_log, val_loss_log, val_acc_log = train(net, optimizer, 20, train_loader, val_loader, scheduler)"
   ]
  },
  {
   "cell_type": "markdown",
   "metadata": {
    "id": "5Xc76KvzO9Du"
   },
   "source": [
    "Посчитайте точность на тестовой выборке:"
   ]
  },
  {
   "cell_type": "code",
   "execution_count": 19,
   "metadata": {
    "id": "1AjiYhKqO9Du"
   },
   "outputs": [
    {
     "name": "stdout",
     "output_type": "stream",
     "text": [
      " test loss: 0.84772424105626, test acc: 0.7171\n"
     ]
    }
   ],
   "source": [
    "test_loss, test_accuracy = testAccuracy(net, test_loader)\n",
    "print(f\" test loss: {test_loss}, test acc: {test_accuracy}\")"
   ]
  },
  {
   "cell_type": "markdown",
   "metadata": {
    "id": "yE0dgLYrO9Du"
   },
   "source": [
    "**Задание 3.0 (0.5 баллов).** Здесь может возникнуть вопрос: а что будет, если мы не будем уменьшать длину шага в процессе обучения, а сразу возьмем констатную, равную значению нашей кусочно-постоянной функции на последних эпохах, то есть $0.001$ в нашем случае. Запустите обучение и проверьте, что в таком случае мы получим худшее качество на тестовой выборке."
   ]
  },
  {
   "cell_type": "code",
   "execution_count": 20,
   "metadata": {
    "id": "qZ2iB-LBO9Du"
   },
   "outputs": [
    {
     "name": "stdout",
     "output_type": "stream",
     "text": [
      "Epoch 0\n",
      " train loss: 1.8707846115450537, train acc: 0.3455714285714286\n",
      " val loss: 1.6209331167505143, val acc: 0.4352\n",
      "\n",
      "Epoch 1\n",
      " train loss: 1.5234112144606204, train acc: 0.4594285714285714\n",
      " val loss: 1.4236227451486791, val acc: 0.49193333333333333\n",
      "\n",
      "Epoch 2\n",
      " train loss: 1.3905224938497247, train acc: 0.5073142857142857\n",
      " val loss: 1.349171268686335, val acc: 0.5254\n",
      "\n",
      "Epoch 3\n",
      " train loss: 1.3123356135497364, train acc: 0.5345142857142857\n",
      " val loss: 1.2759098654097698, val acc: 0.5492\n",
      "\n",
      "Epoch 4\n",
      " train loss: 1.2524397607477318, train acc: 0.5559714285714286\n",
      " val loss: 1.2192159305227563, val acc: 0.5666666666666667\n",
      "\n",
      "Epoch 5\n",
      " train loss: 1.2047018636515197, train acc: 0.5780857142857143\n",
      " val loss: 1.1831230678456894, val acc: 0.5792\n",
      "\n",
      "Epoch 6\n",
      " train loss: 1.1576371574314683, train acc: 0.5926285714285714\n",
      " val loss: 1.12695254569358, val acc: 0.5993333333333334\n",
      "\n",
      "Epoch 7\n",
      " train loss: 1.1122836245043404, train acc: 0.6094571428571428\n",
      " val loss: 1.0762913701382089, val acc: 0.6209333333333333\n",
      "\n",
      "Epoch 8\n",
      " train loss: 1.070504068565543, train acc: 0.6243142857142857\n",
      " val loss: 1.0740574791076336, val acc: 0.6219333333333333\n",
      "\n",
      "Epoch 9\n",
      " train loss: 1.0493510220560776, train acc: 0.6330571428571429\n",
      " val loss: 1.063513059058088, val acc: 0.6261333333333333\n",
      "\n",
      "Epoch 10\n",
      " train loss: 1.014391955662471, train acc: 0.646\n",
      " val loss: 1.0052988450577918, val acc: 0.6482\n",
      "\n",
      "Epoch 11\n",
      " train loss: 0.9925168994575794, train acc: 0.6536\n",
      " val loss: 0.9834359478443226, val acc: 0.6559333333333334\n",
      "\n",
      "Epoch 12\n",
      " train loss: 0.9749163189797341, train acc: 0.6611428571428571\n",
      " val loss: 0.9664430080576146, val acc: 0.661\n",
      "\n",
      "Epoch 13\n",
      " train loss: 0.9586728692490615, train acc: 0.6665428571428571\n",
      " val loss: 0.9704118786974156, val acc: 0.6636666666666666\n",
      "\n",
      "Epoch 14\n",
      " train loss: 0.9425824437106549, train acc: 0.6698571428571428\n",
      " val loss: 0.9376429735346044, val acc: 0.6711333333333334\n",
      "\n",
      "Epoch 15\n",
      " train loss: 0.9251685923806492, train acc: 0.6782857142857143\n",
      " val loss: 0.9350758796042584, val acc: 0.6743333333333333\n",
      "\n",
      "Epoch 16\n",
      " train loss: 0.9156672134042004, train acc: 0.6834\n",
      " val loss: 0.9283993903626787, val acc: 0.6784\n",
      "\n",
      "Epoch 17\n",
      " train loss: 0.9013967631721845, train acc: 0.6872\n",
      " val loss: 0.9318622236556195, val acc: 0.6749333333333334\n",
      "\n",
      "Epoch 18\n",
      " train loss: 0.8952319202518986, train acc: 0.6881428571428572\n",
      " val loss: 0.9495599640176652, val acc: 0.668\n",
      "\n",
      "Epoch 19\n",
      " train loss: 0.8920325668463978, train acc: 0.6901428571428572\n",
      " val loss: 0.9095500905463036, val acc: 0.6825333333333333\n",
      "\n"
     ]
    }
   ],
   "source": [
    "net = BasicBlockNet().to(device)\n",
    "optimizer = optim.SGD(net.parameters(), lr=0.001, momentum=0.9)\n",
    "train_loss_log, train_acc_log, val_loss_log, val_acc_log = train(net, optimizer, 20, train_loader, val_loader)"
   ]
  },
  {
   "cell_type": "code",
   "execution_count": 21,
   "metadata": {},
   "outputs": [
    {
     "name": "stdout",
     "output_type": "stream",
     "text": [
      " test loss: 0.9255609136478157, test acc: 0.6774\n"
     ]
    }
   ],
   "source": [
    "test_loss, test_accuracy = testAccuracy(net, test_loader)\n",
    "print(f\" test loss: {test_loss}, test acc: {test_accuracy}\")"
   ]
  },
  {
   "cell_type": "markdown",
   "metadata": {
    "id": "xVotU378O9Du"
   },
   "source": [
    "**Задание 3.1 (1.5 балла).** Изучите, какие еще способы уменьшения длины шага представлены в <code>torch.optim.lr_scheduler</code>. Выберите несколько из них, объясните, как они устроены, и обучите модель с ними. Удалось ли добиться улучшения качества на тестовой выборке?"
   ]
  },
  {
   "cell_type": "code",
   "execution_count": 22,
   "metadata": {
    "id": "nkGlzocOO9Du"
   },
   "outputs": [
    {
     "name": "stdout",
     "output_type": "stream",
     "text": [
      "Epoch 0\n",
      " train loss: 1.485095529931119, train acc: 0.4679142857142857\n",
      " val loss: 1.3983766124603596, val acc: 0.5061333333333333\n",
      "\n",
      "Epoch 1\n",
      " train loss: 1.1885140159012413, train acc: 0.5835428571428571\n",
      " val loss: 1.2205485313496691, val acc: 0.5589333333333333\n",
      "\n",
      "Epoch 2\n",
      " train loss: 1.1003343286418392, train acc: 0.6136\n",
      " val loss: 1.0975236712618077, val acc: 0.6244\n",
      "\n",
      "Epoch 3\n",
      " train loss: 1.0395548632419522, train acc: 0.6382285714285715\n",
      " val loss: 1.014384570527584, val acc: 0.6451333333333333\n",
      "\n",
      "Epoch 4\n",
      " train loss: 1.0093407646175712, train acc: 0.6498\n",
      " val loss: 1.0173240973594342, val acc: 0.6444666666666666\n",
      "\n",
      "Epoch 5\n",
      " train loss: 0.8407653070019194, train acc: 0.7087714285714286\n",
      " val loss: 0.8932578429262689, val acc: 0.6932666666666667\n",
      "\n",
      "Epoch 6\n",
      " train loss: 0.8154580567502017, train acc: 0.7184\n",
      " val loss: 0.8768057584762573, val acc: 0.6992666666666667\n",
      "\n",
      "Epoch 7\n",
      " train loss: 0.8019313504425656, train acc: 0.7228\n",
      " val loss: 0.8689410683956552, val acc: 0.699\n",
      "\n",
      "Epoch 8\n",
      " train loss: 0.7939055153395184, train acc: 0.7251714285714286\n",
      " val loss: 0.8669453775629085, val acc: 0.7007333333333333\n",
      "\n",
      "Epoch 9\n",
      " train loss: 0.7867040320876747, train acc: 0.7282285714285714\n",
      " val loss: 0.8636914032570859, val acc: 0.7012666666666667\n",
      "\n",
      "Epoch 10\n",
      " train loss: 0.7627159546672535, train acc: 0.7385428571428572\n",
      " val loss: 0.8503662449248294, val acc: 0.7078666666666666\n",
      "\n",
      "Epoch 11\n",
      " train loss: 0.7584432555835905, train acc: 0.7386857142857143\n",
      " val loss: 0.8493995871949703, val acc: 0.7079333333333333\n",
      "\n",
      "Epoch 12\n",
      " train loss: 0.7570498657618842, train acc: 0.7384857142857143\n",
      " val loss: 0.848537290096283, val acc: 0.7084\n",
      "\n",
      "Epoch 13\n",
      " train loss: 0.7573204142955801, train acc: 0.7376571428571429\n",
      " val loss: 0.8488457114138501, val acc: 0.7086\n",
      "\n",
      "Epoch 14\n",
      " train loss: 0.7566383149767707, train acc: 0.7395428571428572\n",
      " val loss: 0.8483211020205883, val acc: 0.7082666666666667\n",
      "\n",
      "Epoch 15\n",
      " train loss: 0.7532275006910565, train acc: 0.7402857142857143\n",
      " val loss: 0.8469599916579875, val acc: 0.7085333333333333\n",
      "\n",
      "Epoch 16\n",
      " train loss: 0.7522910563121984, train acc: 0.7413142857142857\n",
      " val loss: 0.8468260384620504, val acc: 0.7089333333333333\n",
      "\n",
      "Epoch 17\n",
      " train loss: 0.7520715081059737, train acc: 0.7408285714285714\n",
      " val loss: 0.846844861101597, val acc: 0.7092\n",
      "\n",
      "Epoch 18\n",
      " train loss: 0.7525275884097411, train acc: 0.7418857142857143\n",
      " val loss: 0.8476849819751496, val acc: 0.7090666666666666\n",
      "\n",
      "Epoch 19\n",
      " train loss: 0.7528792872507349, train acc: 0.7413714285714286\n",
      " val loss: 0.8462208415599579, val acc: 0.7080666666666666\n",
      "\n"
     ]
    }
   ],
   "source": [
    "net = BasicBlockNet().to(device)\n",
    "optimizer = optim.SGD(net.parameters(), lr=0.1, momentum=0.9)\n",
    "# StepLR Уменьшает скорость обучения на фиксированный коэффициент (gamma) через заданное количество эпох (step_size).\n",
    "scheduler = optim.lr_scheduler.StepLR(optimizer, step_size=5, gamma=0.1) # Уменьшает lr в 10 раз каждые 5 эпох\n",
    "tr_loss_log, tr_acc_log, val_loss_log, val_acc_log = train(net, optimizer, 20, train_loader, val_loader, scheduler)"
   ]
  },
  {
   "cell_type": "code",
   "execution_count": 23,
   "metadata": {},
   "outputs": [
    {
     "name": "stdout",
     "output_type": "stream",
     "text": [
      " test loss: 0.8556466041856511, test acc: 0.707\n"
     ]
    }
   ],
   "source": [
    "test_loss, test_accuracy = testAccuracy(net, test_loader)\n",
    "print(f\" test loss: {test_loss}, test acc: {test_accuracy}\")"
   ]
  },
  {
   "cell_type": "code",
   "execution_count": 24,
   "metadata": {},
   "outputs": [
    {
     "name": "stdout",
     "output_type": "stream",
     "text": [
      "Epoch 0\n",
      " train loss: 1.5026215720220284, train acc: 0.4583714285714286\n",
      " val loss: 1.2328204020540765, val acc: 0.5638\n",
      "\n",
      "Epoch 1\n",
      " train loss: 1.1906385386883667, train acc: 0.5807428571428571\n",
      " val loss: 1.106402316245627, val acc: 0.6098\n",
      "\n",
      "Epoch 2\n",
      " train loss: 1.081879579824765, train acc: 0.6233142857142857\n",
      " val loss: 1.049700836425132, val acc: 0.6313333333333333\n",
      "\n",
      "Epoch 3\n",
      " train loss: 1.0284731625638888, train acc: 0.6398571428571429\n",
      " val loss: 1.0110186987734855, val acc: 0.6532666666666667\n",
      "\n",
      "Epoch 4\n",
      " train loss: 0.9815739663471034, train acc: 0.6556571428571428\n",
      " val loss: 1.0530448933865162, val acc: 0.6182\n",
      "\n",
      "Epoch 5\n",
      " train loss: 0.9520013203786539, train acc: 0.6684285714285715\n",
      " val loss: 1.002212319729176, val acc: 0.6542666666666667\n",
      "\n",
      "Epoch 6\n",
      " train loss: 0.9235305199893344, train acc: 0.6796857142857143\n",
      " val loss: 0.9607119760614761, val acc: 0.6668666666666667\n",
      "\n",
      "Epoch 7\n",
      " train loss: 0.9036642448666763, train acc: 0.6855714285714286\n",
      " val loss: 0.9373593376037922, val acc: 0.6768666666666666\n",
      "\n",
      "Epoch 8\n",
      " train loss: 0.8862423412978541, train acc: 0.6899142857142857\n",
      " val loss: 0.9510931456342656, val acc: 0.6711333333333334\n",
      "\n",
      "Epoch 9\n",
      " train loss: 0.8691607789975851, train acc: 0.6941142857142857\n",
      " val loss: 0.9261919878898783, val acc: 0.6822666666666667\n",
      "\n",
      "Epoch 10\n",
      " train loss: 0.846770843487553, train acc: 0.7041428571428572\n",
      " val loss: 0.9062238695773672, val acc: 0.69\n",
      "\n",
      "Epoch 11\n",
      " train loss: 0.8332643645119188, train acc: 0.7082857142857143\n",
      " val loss: 0.9531848795870517, val acc: 0.6792666666666667\n",
      "\n",
      "Epoch 12\n",
      " train loss: 0.8163518558036693, train acc: 0.7163714285714285\n",
      " val loss: 0.900479476756238, val acc: 0.6908\n",
      "\n",
      "Epoch 13\n",
      " train loss: 0.8040254505068554, train acc: 0.7191142857142857\n",
      " val loss: 0.9370079081109229, val acc: 0.6764666666666667\n",
      "\n",
      "Epoch 14\n",
      " train loss: 0.7865331060162846, train acc: 0.7268285714285714\n",
      " val loss: 0.895875940551149, val acc: 0.6893333333333334\n",
      "\n",
      "Epoch 15\n",
      " train loss: 0.781927983656226, train acc: 0.7264\n",
      " val loss: 0.8721894251539352, val acc: 0.7022\n",
      "\n",
      "Epoch 16\n",
      " train loss: 0.7656544541745997, train acc: 0.7323714285714286\n",
      " val loss: 0.8910704965287066, val acc: 0.6958666666666666\n",
      "\n",
      "Epoch 17\n",
      " train loss: 0.7566229288604185, train acc: 0.7360857142857142\n",
      " val loss: 0.8783275644829933, val acc: 0.702\n",
      "\n",
      "Epoch 18\n",
      " train loss: 0.7493149166896095, train acc: 0.7365428571428572\n",
      " val loss: 0.849100465470172, val acc: 0.7066666666666667\n",
      "\n",
      "Epoch 19\n",
      " train loss: 0.7397831252331708, train acc: 0.7419428571428571\n",
      " val loss: 0.8615317674393349, val acc: 0.7072\n",
      "\n"
     ]
    }
   ],
   "source": [
    "net = BasicBlockNet().to(device)\n",
    "optimizer = optim.SGD(net.parameters(), lr=0.1, momentum=0.9)\n",
    "# ExponentialLR Уменьшает скорость обучения экспоненциально с течением времени.\n",
    "scheduler = optim.lr_scheduler.ExponentialLR(optimizer, gamma=0.95) # Уменьшает lr на 5% каждую эпоху\n",
    "tr_loss_log, tr_acc_log, val_loss_log, val_acc_log = train(net, optimizer, 20, train_loader, val_loader, scheduler)"
   ]
  },
  {
   "cell_type": "code",
   "execution_count": 25,
   "metadata": {},
   "outputs": [
    {
     "name": "stdout",
     "output_type": "stream",
     "text": [
      " test loss: 0.8799713318514976, test acc: 0.7006\n"
     ]
    }
   ],
   "source": [
    "test_loss, test_accuracy = testAccuracy(net, test_loader)\n",
    "print(f\" test loss: {test_loss}, test acc: {test_accuracy}\")"
   ]
  },
  {
   "cell_type": "markdown",
   "metadata": {
    "id": "5a_zMNNVO9Du"
   },
   "source": [
    "Все способы уменьшения длины шага оказались эффективнее, чем статичный шаг (accuracy 0.68 со статичным и минимум 0.70 с уменьшением). Если сравнивать три способа ExponentialLR, StepLR и MultiStepLR, то:  \n",
    "1 место - MultiStepLR (0.7171)  \n",
    "2 место - StepLR (0.707)  \n",
    "3 место - ExponentialLR (0.7006)  \n",
    "Хотя может стоит еще поэксперементировать с коэфициентами этих способов"
   ]
  },
  {
   "cell_type": "markdown",
   "metadata": {
    "id": "7xFXgl_3_E--"
   },
   "source": [
    "## 4. Аугментации данных (2 балла)"
   ]
  },
  {
   "cell_type": "markdown",
   "metadata": {
    "id": "5G0Easo9O9Du"
   },
   "source": [
    "Еще одной стандартной техникой, применяющейся в глубинном обучении, а особенно часто в компьютерном зрении, являются аугментации данных. Суть аугментаций состоит в том, что мы можем некоторым синтетическим образом видоизменять объекты обучающей выборки, тем самым расширяя ее, а также делая итоговую модель более устойчивой к таким изменениям.\n",
    "\n",
    "Простейшая аугментация, которую можно применить к картинкам — разворот картинки по горизонтальной оси. То есть при обучении модели с вероятностью $0.5$ мы будем разворачивать картинку из обучающей выборки."
   ]
  },
  {
   "cell_type": "code",
   "execution_count": 27,
   "metadata": {
    "id": "SzeFpgtfO9Du"
   },
   "outputs": [
    {
     "data": {
      "image/png": "[encoded data removed]",
      "text/plain": [
       "<Figure size 640x480 with 1 Axes>"
      ]
     },
     "metadata": {},
     "output_type": "display_data"
    },
    {
     "data": {
      "image/png": "[encoded data removed]",
      "text/plain": [
       "<Figure size 640x480 with 1 Axes>"
      ]
     },
     "metadata": {},
     "output_type": "display_data"
    }
   ],
   "source": [
    "dataiter = iter(train_loader)\n",
    "images, labels = next(dataiter)\n",
    "\n",
    "imshow(torchvision.utils.make_grid(images[:4]))\n",
    "\n",
    "imshow(torchvision.utils.make_grid(transforms.functional.hflip(images[:4])))"
   ]
  },
  {
   "cell_type": "markdown",
   "metadata": {
    "id": "BR4a-XJQO9Du"
   },
   "source": [
    "Наиболее удобным способом работы с аугментациями в PyTorch является их задание в списке <code>transforms</code>, который затем передается в загрузчик данных. Обучим нашу сеть, применяя горизонтальные повороты:"
   ]
  },
  {
   "cell_type": "code",
   "execution_count": 28,
   "metadata": {
    "id": "na0ScBf-_AqX",
    "scrolled": true
   },
   "outputs": [
    {
     "name": "stdout",
     "output_type": "stream",
     "text": [
      "Epoch 0\n",
      " train loss: 1.459702928061895, train acc: 0.47677142857142857\n",
      " val loss: 1.2722972172371885, val acc: 0.5488666666666666\n",
      "\n",
      "Epoch 1\n",
      " train loss: 1.1847244115372682, train acc: 0.5802857142857143\n",
      " val loss: 1.1666717557196922, val acc: 0.6012\n",
      "\n",
      "Epoch 2\n",
      " train loss: 1.1009027233289408, train acc: 0.6188857142857143\n",
      " val loss: 1.1120957737273358, val acc: 0.6212\n",
      "\n",
      "Epoch 3\n",
      " train loss: 1.050706463387505, train acc: 0.6327142857142857\n",
      " val loss: 1.0559784123238096, val acc: 0.6346666666666667\n",
      "\n",
      "Epoch 4\n",
      " train loss: 1.0142619433307125, train acc: 0.6461714285714286\n",
      " val loss: 0.9560869216918946, val acc: 0.664\n",
      "\n",
      "Epoch 5\n",
      " train loss: 0.981863388413703, train acc: 0.659\n",
      " val loss: 0.9804767347396688, val acc: 0.6621333333333334\n",
      "\n",
      "Epoch 6\n",
      " train loss: 0.9642209882492121, train acc: 0.6645428571428571\n",
      " val loss: 0.979051634352258, val acc: 0.6660666666666667\n",
      "\n",
      "Epoch 7\n",
      " train loss: 0.9440233953692142, train acc: 0.6734\n",
      " val loss: 0.9123562465322779, val acc: 0.685\n",
      "\n",
      "Epoch 8\n",
      " train loss: 0.9226222880579654, train acc: 0.6802857142857143\n",
      " val loss: 0.973440665133456, val acc: 0.6704666666666667\n",
      "\n",
      "Epoch 9\n",
      " train loss: 0.9172346675853624, train acc: 0.6794571428571429\n",
      " val loss: 0.9260935907668256, val acc: 0.6832666666666667\n",
      "\n",
      "Epoch 10\n",
      " train loss: 0.778100266589543, train acc: 0.7276857142857143\n",
      " val loss: 0.8042669362210213, val acc: 0.7229333333333333\n",
      "\n",
      "Epoch 11\n",
      " train loss: 0.7594164588115769, train acc: 0.7367714285714285\n",
      " val loss: 0.7971744750408416, val acc: 0.7259333333333333\n",
      "\n",
      "Epoch 12\n",
      " train loss: 0.7493896663079967, train acc: 0.7381428571428571\n",
      " val loss: 0.7927263233255832, val acc: 0.7281333333333333\n",
      "\n",
      "Epoch 13\n",
      " train loss: 0.7489460949161153, train acc: 0.737\n",
      " val loss: 0.7890435934066773, val acc: 0.7272666666666666\n",
      "\n",
      "Epoch 14\n",
      " train loss: 0.7443510453051579, train acc: 0.7405142857142857\n",
      " val loss: 0.7832618032364135, val acc: 0.7320666666666666\n",
      "\n",
      "Epoch 15\n",
      " train loss: 0.7285792645087408, train acc: 0.7466285714285714\n",
      " val loss: 0.7761619012406532, val acc: 0.7325333333333334\n",
      "\n",
      "Epoch 16\n",
      " train loss: 0.7192061013342912, train acc: 0.7500857142857142\n",
      " val loss: 0.7720826700646827, val acc: 0.736\n",
      "\n",
      "Epoch 17\n",
      " train loss: 0.7222256592902231, train acc: 0.7496571428571429\n",
      " val loss: 0.7732970647355344, val acc: 0.7345333333333334\n",
      "\n",
      "Epoch 18\n",
      " train loss: 0.7250163302887946, train acc: 0.7488\n",
      " val loss: 0.7743454291465435, val acc: 0.7350666666666666\n",
      "\n",
      "Epoch 19\n",
      " train loss: 0.7213574720366127, train acc: 0.7493428571428571\n",
      " val loss: 0.7724218920190283, val acc: 0.7346\n",
      "\n"
     ]
    }
   ],
   "source": [
    "transform = transforms.Compose(\n",
    "        [transforms.RandomHorizontalFlip(),\n",
    "         transforms.ToTensor(),\n",
    "         transforms.Normalize((0.5, 0.5, 0.5), (0.5, 0.5, 0.5))]\n",
    ")\n",
    "\n",
    "train_loader, val_loader, test_loader = get_cifar10_data(batch_size=64, transform_train=transform)\n",
    "\n",
    "net = BasicBlockNet().to(device)\n",
    "optimizer = optim.SGD(net.parameters(), lr=0.1, momentum=0.9)\n",
    "scheduler = optim.lr_scheduler.MultiStepLR(optimizer, milestones=[10, 15], gamma=0.1)\n",
    "tr_loss_log, tr_acc_log, val_loss_log, val_acc_log = train(net, optimizer, 20, train_loader, val_loader, scheduler)"
   ]
  },
  {
   "cell_type": "markdown",
   "metadata": {
    "id": "v3ZIqDQqO9Dv"
   },
   "source": [
    "Посчитайте точность на тестовой выборке:"
   ]
  },
  {
   "cell_type": "code",
   "execution_count": 29,
   "metadata": {
    "id": "nNJizMkM_Auh"
   },
   "outputs": [
    {
     "name": "stdout",
     "output_type": "stream",
     "text": [
      " test loss: 0.8041482469078841, test acc: 0.7254\n"
     ]
    }
   ],
   "source": [
    "test_loss, test_accuracy = testAccuracy(net, test_loader)\n",
    "print(f\" test loss: {test_loss}, test acc: {test_accuracy}\")"
   ]
  },
  {
   "cell_type": "markdown",
   "metadata": {
    "id": "KndehSCHO9Dv"
   },
   "source": [
    "**Задание 4.1 (2 балла).** Изучите, какие еще способы аугментаций изображений представлены в <code>torchvision.transforms</code>. Выберите несколько из них, объясните, как они устроены, и обучите модель с ними (по отдельности и вместе). Удалось ли добиться улучшения качества на тестовой выборке?"
   ]
  },
  {
   "cell_type": "code",
   "execution_count": 31,
   "metadata": {
    "id": "Np4rgvdZ_QRF"
   },
   "outputs": [
    {
     "name": "stdout",
     "output_type": "stream",
     "text": [
      "Epoch 0\n",
      " train loss: 1.5482389719874157, train acc: 0.4432857142857143\n",
      " val loss: 1.3206294901827549, val acc: 0.5278666666666667\n",
      "\n",
      "Epoch 1\n",
      " train loss: 1.239776099948604, train acc: 0.5647428571428571\n",
      " val loss: 1.2284104014964814, val acc: 0.5767333333333333\n",
      "\n",
      "Epoch 2\n",
      " train loss: 1.1523678449869592, train acc: 0.6006571428571429\n",
      " val loss: 1.1654711274390526, val acc: 0.5946666666666667\n",
      "\n",
      "Epoch 3\n",
      " train loss: 1.0870498340352144, train acc: 0.6238285714285714\n",
      " val loss: 1.1412350697720304, val acc: 0.6058\n",
      "\n",
      "Epoch 4\n",
      " train loss: 1.0588497492251492, train acc: 0.6310857142857142\n",
      " val loss: 1.0075858085713487, val acc: 0.6499333333333334\n",
      "\n",
      "Epoch 5\n",
      " train loss: 1.0175436894244205, train acc: 0.646\n",
      " val loss: 1.0439843933633033, val acc: 0.6361333333333333\n",
      "\n",
      "Epoch 6\n",
      " train loss: 0.9993525396971206, train acc: 0.6501714285714286\n",
      " val loss: 1.113115751236043, val acc: 0.6174666666666667\n",
      "\n",
      "Epoch 7\n",
      " train loss: 0.9870982465404043, train acc: 0.6585428571428571\n",
      " val loss: 1.0200242747651769, val acc: 0.6479333333333334\n",
      "\n",
      "Epoch 8\n",
      " train loss: 0.970230480761589, train acc: 0.6632857142857143\n",
      " val loss: 0.9793554841203892, val acc: 0.6612666666666667\n",
      "\n",
      "Epoch 9\n",
      " train loss: 0.9599404250028146, train acc: 0.6657714285714286\n",
      " val loss: 0.9554680149605934, val acc: 0.6670666666666667\n",
      "\n",
      "Epoch 10\n",
      " train loss: 0.8168519403533482, train acc: 0.7176857142857143\n",
      " val loss: 0.8806293063975396, val acc: 0.6980666666666666\n",
      "\n",
      "Epoch 11\n",
      " train loss: 0.7954562104271361, train acc: 0.7232285714285714\n",
      " val loss: 0.8685906275789789, val acc: 0.6999333333333333\n",
      "\n",
      "Epoch 12\n",
      " train loss: 0.7854252702793212, train acc: 0.7295142857142857\n",
      " val loss: 0.86655221822414, val acc: 0.7021333333333334\n",
      "\n",
      "Epoch 13\n",
      " train loss: 0.7806680405161717, train acc: 0.7293714285714286\n",
      " val loss: 0.8573545050113759, val acc: 0.7051333333333333\n",
      "\n",
      "Epoch 14\n",
      " train loss: 0.7769095361559657, train acc: 0.7309714285714286\n",
      " val loss: 0.8583205599734124, val acc: 0.7056\n",
      "\n",
      "Epoch 15\n",
      " train loss: 0.7575719171838743, train acc: 0.7377714285714285\n",
      " val loss: 0.8509468238404456, val acc: 0.7064\n",
      "\n",
      "Epoch 16\n",
      " train loss: 0.7557928874353168, train acc: 0.7388857142857143\n",
      " val loss: 0.8535091235282574, val acc: 0.7036666666666667\n",
      "\n",
      "Epoch 17\n",
      " train loss: 0.7540639537561964, train acc: 0.7388571428571429\n",
      " val loss: 0.8514064030444368, val acc: 0.7078\n",
      "\n",
      "Epoch 18\n",
      " train loss: 0.753693124602874, train acc: 0.7399142857142857\n",
      " val loss: 0.8500825050029349, val acc: 0.7075333333333333\n",
      "\n",
      "Epoch 19\n",
      " train loss: 0.7549928406038929, train acc: 0.7381142857142857\n",
      " val loss: 0.8455180393888595, val acc: 0.7099333333333333\n",
      "\n"
     ]
    }
   ],
   "source": [
    "# ColorJitterСлучайно изменяет яркость, контрастность, насыщенность и оттенок изображения\n",
    "\n",
    "transform = transforms.Compose(\n",
    "        [transforms.ColorJitter(brightness=0.2, contrast=0.2, saturation=0.2, hue=0.1),\n",
    "         transforms.ToTensor(),\n",
    "         transforms.Normalize((0.5, 0.5, 0.5), (0.5, 0.5, 0.5))]\n",
    ")\n",
    "\n",
    "train_loader, val_loader, test_loader = get_cifar10_data(batch_size=64, transform_train=transform)\n",
    "\n",
    "net = BasicBlockNet().to(device)\n",
    "optimizer = optim.SGD(net.parameters(), lr=0.1, momentum=0.9)\n",
    "scheduler = optim.lr_scheduler.MultiStepLR(optimizer, milestones=[10, 15], gamma=0.1)\n",
    "tr_loss_log, tr_acc_log, val_loss_log, val_acc_log = train(net, optimizer, 20, train_loader, val_loader, scheduler)"
   ]
  },
  {
   "cell_type": "code",
   "execution_count": 32,
   "metadata": {},
   "outputs": [
    {
     "name": "stdout",
     "output_type": "stream",
     "text": [
      " test loss: 0.8447689398838456, test acc: 0.7119\n"
     ]
    }
   ],
   "source": [
    "test_loss, test_accuracy = testAccuracy(net, test_loader)\n",
    "print(f\" test loss: {test_loss}, test acc: {test_accuracy}\")"
   ]
  },
  {
   "cell_type": "code",
   "execution_count": 33,
   "metadata": {},
   "outputs": [
    {
     "name": "stdout",
     "output_type": "stream",
     "text": [
      "Epoch 0\n",
      " train loss: 1.561774994817033, train acc: 0.43242857142857144\n",
      " val loss: 1.4961318685653362, val acc: 0.4700666666666667\n",
      "\n",
      "Epoch 1\n",
      " train loss: 1.325352673665697, train acc: 0.5258571428571429\n",
      " val loss: 1.3139903479434074, val acc: 0.5249333333333334\n",
      "\n",
      "Epoch 2\n",
      " train loss: 1.217621004559658, train acc: 0.5701714285714286\n",
      " val loss: 1.1617696959921655, val acc: 0.5846666666666667\n",
      "\n",
      "Epoch 3\n",
      " train loss: 1.1500242703357606, train acc: 0.5938571428571429\n",
      " val loss: 1.2572488343462032, val acc: 0.5642666666666667\n",
      "\n",
      "Epoch 4\n",
      " train loss: 1.1098962650656483, train acc: 0.6060857142857143\n",
      " val loss: 1.1003639173000417, val acc: 0.6139333333333333\n",
      "\n",
      "Epoch 5\n",
      " train loss: 1.0765477242373898, train acc: 0.6200857142857142\n",
      " val loss: 1.0658285848637845, val acc: 0.6274\n",
      "\n",
      "Epoch 6\n",
      " train loss: 1.0618141003674955, train acc: 0.6251142857142857\n",
      " val loss: 1.1377965036858904, val acc: 0.6017333333333333\n",
      "\n",
      "Epoch 7\n",
      " train loss: 1.0437471405679608, train acc: 0.6330857142857143\n",
      " val loss: 1.0667551355159028, val acc: 0.6315333333333333\n",
      "\n",
      "Epoch 8\n",
      " train loss: 1.0305146610932987, train acc: 0.6398\n",
      " val loss: 1.0776940908837827, val acc: 0.6372\n",
      "\n",
      "Epoch 9\n",
      " train loss: 1.0184354123947172, train acc: 0.6424285714285715\n",
      " val loss: 1.0350078258108586, val acc: 0.6432\n",
      "\n",
      "Epoch 10\n",
      " train loss: 0.8770072896040336, train acc: 0.6933142857142857\n",
      " val loss: 0.9350651883064433, val acc: 0.6798666666666666\n",
      "\n",
      "Epoch 11\n",
      " train loss: 0.8587121381620166, train acc: 0.6987714285714286\n",
      " val loss: 0.9115950518466057, val acc: 0.685\n",
      "\n",
      "Epoch 12\n",
      " train loss: 0.8539667082661031, train acc: 0.6994\n",
      " val loss: 0.9113240323168166, val acc: 0.6888\n",
      "\n",
      "Epoch 13\n",
      " train loss: 0.8511463063726478, train acc: 0.7015142857142858\n",
      " val loss: 0.9053115593626144, val acc: 0.6850666666666667\n",
      "\n",
      "Epoch 14\n",
      " train loss: 0.8448766806116924, train acc: 0.7056\n",
      " val loss: 0.9096713109219328, val acc: 0.6855333333333333\n",
      "\n",
      "Epoch 15\n",
      " train loss: 0.8286409679888808, train acc: 0.7110571428571428\n",
      " val loss: 0.8983599803549178, val acc: 0.6903333333333334\n",
      "\n",
      "Epoch 16\n",
      " train loss: 0.8267677968991086, train acc: 0.7066571428571429\n",
      " val loss: 0.8940912926450689, val acc: 0.6937333333333333\n",
      "\n",
      "Epoch 17\n",
      " train loss: 0.8254181173863315, train acc: 0.7097142857142857\n",
      " val loss: 0.8998122830340203, val acc: 0.6901333333333334\n",
      "\n",
      "Epoch 18\n",
      " train loss: 0.8285077710038348, train acc: 0.7088857142857143\n",
      " val loss: 0.9002932994923694, val acc: 0.6890666666666667\n",
      "\n",
      "Epoch 19\n",
      " train loss: 0.8240856507578541, train acc: 0.7101142857142857\n",
      " val loss: 0.8894815708728547, val acc: 0.6938\n",
      "\n"
     ]
    }
   ],
   "source": [
    "# RandomRotation Случайно поворачивает изображение на угол в диапазоне от 5 до 25 градусов.\n",
    "\n",
    "transform = transforms.Compose(\n",
    "        [transforms.RandomRotation((5, 25)),\n",
    "         transforms.ToTensor(),\n",
    "         transforms.Normalize((0.5, 0.5, 0.5), (0.5, 0.5, 0.5))]\n",
    ")\n",
    "\n",
    "train_loader, val_loader, test_loader = get_cifar10_data(batch_size=64, transform_train=transform)\n",
    "\n",
    "net = BasicBlockNet().to(device)\n",
    "optimizer = optim.SGD(net.parameters(), lr=0.1, momentum=0.9)\n",
    "scheduler = optim.lr_scheduler.MultiStepLR(optimizer, milestones=[10, 15], gamma=0.1)\n",
    "tr_loss_log, tr_acc_log, val_loss_log, val_acc_log = train(net, optimizer, 20, train_loader, val_loader, scheduler)"
   ]
  },
  {
   "cell_type": "code",
   "execution_count": 34,
   "metadata": {},
   "outputs": [
    {
     "name": "stdout",
     "output_type": "stream",
     "text": [
      " test loss: 1.0130843653041086, test acc: 0.659\n"
     ]
    }
   ],
   "source": [
    "test_loss, test_accuracy = testAccuracy(net, test_loader)\n",
    "print(f\" test loss: {test_loss}, test acc: {test_accuracy}\")"
   ]
  },
  {
   "cell_type": "markdown",
   "metadata": {
    "id": "4K-MptLiO9Dv"
   },
   "source": [
    "(сравнение будет с результатом обучения с уменьшением шага MultiStepLR и без аугментации) RandomHorizontalFlip увеличил accuracy с 0.7171 до 0.7254. ColorJitter практически не оказал эффекта с 0.7171 до 0.7119 (значит цвета/яркость не оказывают такого сильного эффекта). А RandomRotation сильно ухудшил качество с 0.7171 до 0.659. Я думаю это связано с тем, что поворот изображения сильно искажает его, особенно если учитывать небольшой размер 32 х 32."
   ]
  },
  {
   "cell_type": "markdown",
   "metadata": {
    "id": "HCENjLw5O9Dv"
   },
   "source": [
    "## Бонус. Логирование в wandb (2 балла)"
   ]
  },
  {
   "cell_type": "markdown",
   "metadata": {
    "id": "xOyzc1mnO9Dv"
   },
   "source": [
    "На практике специалиста по глубинному обучению часто встречаются ситуации, когда нейросеть учится на каком-то удаленном сервере. И обычно вам хочется отслеживать прогресс обучения, особенно когда время обучения модели исчисляется днями или неделями. Для таких целей существует несколько инструментов. Вероятно, самый популярный из них — [wandb](https://wandb.ai/site).\n",
    "\n",
    "Ваша задача состоит в том, чтобы разобраться как им пользоваться, и повторить задания 2.1 и 2.2 с его использованием. Обучение вы можете запускать в этом же ноутбуке, но теперь вам необходимо через wandb логировать значения функции потерь и точности на обучающей выборке и на валидационной. Результатом работы должны быть ваш код и публичная ссылка на страничку с графиками, идентичными графикам в задании 2.2."
   ]
  },
  {
   "cell_type": "code",
   "execution_count": null,
   "metadata": {
    "id": "m5gSTLAr_QS4"
   },
   "outputs": [],
   "source": [
    "# <your code here>"
   ]
  }
 ],
 "metadata": {
  "accelerator": "GPU",
  "colab": {
   "collapsed_sections": [],
   "provenance": []
  },
  "kernelspec": {
   "display_name": "venv",
   "language": "python",
   "name": "python3"
  },
  "language_info": {
   "codemirror_mode": {
    "name": "ipython",
    "version": 3
   },
   "file_extension": ".py",
   "mimetype": "text/x-python",
   "name": "python",
   "nbconvert_exporter": "python",
   "pygments_lexer": "ipython3",
   "version": "3.12.7"
  },
  "toc": {
   "base_numbering": 1,
   "nav_menu": {},
   "number_sections": true,
   "sideBar": true,
   "skip_h1_title": false,
   "title_cell": "Table of Contents",
   "title_sidebar": "Contents",
   "toc_cell": false,
   "toc_position": {},
   "toc_section_display": true,
   "toc_window_display": false
  },
  "varInspector": {
   "cols": {
    "lenName": 16,
    "lenType": 16,
    "lenVar": 40
   },
   "kernels_config": {
    "python": {
     "delete_cmd_postfix": "",
     "delete_cmd_prefix": "del ",
     "library": "var_list.py",
     "varRefreshCmd": "print(var_dic_list())"
    },
    "r": {
     "delete_cmd_postfix": ") ",
     "delete_cmd_prefix": "rm(",
     "library": "var_list.r",
     "varRefreshCmd": "cat(var_dic_list()) "
    }
   },
   "types_to_exclude": [
    "module",
    "function",
    "builtin_function_or_method",
    "instance",
    "_Feature"
   ],
   "window_display": false
  },
  "widgets": {
   "application/vnd.jupyter.widget-state+json": {
    "0fee9f5b7bdb4129a71ef0cfe9d3b1fa": {
     "model_module": "@jupyter-widgets/controls",
     "model_module_version": "1.5.0",
     "model_name": "ProgressStyleModel",
     "state": {
      "_model_module": "@jupyter-widgets/controls",
      "_model_module_version": "1.5.0",
      "_model_name": "ProgressStyleModel",
      "_view_count": null,
      "_view_module": "@jupyter-widgets/base",
      "_view_module_version": "1.2.0",
      "_view_name": "StyleView",
      "bar_color": null,
      "description_width": ""
     }
    },
    "17b2be81159e41f1a5c6bb966516572e": {
     "model_module": "@jupyter-widgets/base",
     "model_module_version": "1.2.0",
     "model_name": "LayoutModel",
     "state": {
      "_model_module": "@jupyter-widgets/base",
      "_model_module_version": "1.2.0",
      "_model_name": "LayoutModel",
      "_view_count": null,
      "_view_module": "@jupyter-widgets/base",
      "_view_module_version": "1.2.0",
      "_view_name": "LayoutView",
      "align_content": null,
      "align_items": null,
      "align_self": null,
      "border": null,
      "bottom": null,
      "display": null,
      "flex": null,
      "flex_flow": null,
      "grid_area": null,
      "grid_auto_columns": null,
      "grid_auto_flow": null,
      "grid_auto_rows": null,
      "grid_column": null,
      "grid_gap": null,
      "grid_row": null,
      "grid_template_areas": null,
      "grid_template_columns": null,
      "grid_template_rows": null,
      "height": null,
      "justify_content": null,
      "justify_items": null,
      "left": null,
      "margin": null,
      "max_height": null,
      "max_width": null,
      "min_height": null,
      "min_width": null,
      "object_fit": null,
      "object_position": null,
      "order": null,
      "overflow": null,
      "overflow_x": null,
      "overflow_y": null,
      "padding": null,
      "right": null,
      "top": null,
      "visibility": null,
      "width": null
     }
    },
    "18b20091dbf64b129824a8fb3266e3c0": {
     "model_module": "@jupyter-widgets/controls",
     "model_module_version": "1.5.0",
     "model_name": "DescriptionStyleModel",
     "state": {
      "_model_module": "@jupyter-widgets/controls",
      "_model_module_version": "1.5.0",
      "_model_name": "DescriptionStyleModel",
      "_view_count": null,
      "_view_module": "@jupyter-widgets/base",
      "_view_module_version": "1.2.0",
      "_view_name": "StyleView",
      "description_width": ""
     }
    },
    "22bb21a6c57a413fb7374efe31349e6e": {
     "model_module": "@jupyter-widgets/base",
     "model_module_version": "1.2.0",
     "model_name": "LayoutModel",
     "state": {
      "_model_module": "@jupyter-widgets/base",
      "_model_module_version": "1.2.0",
      "_model_name": "LayoutModel",
      "_view_count": null,
      "_view_module": "@jupyter-widgets/base",
      "_view_module_version": "1.2.0",
      "_view_name": "LayoutView",
      "align_content": null,
      "align_items": null,
      "align_self": null,
      "border": null,
      "bottom": null,
      "display": null,
      "flex": null,
      "flex_flow": null,
      "grid_area": null,
      "grid_auto_columns": null,
      "grid_auto_flow": null,
      "grid_auto_rows": null,
      "grid_column": null,
      "grid_gap": null,
      "grid_row": null,
      "grid_template_areas": null,
      "grid_template_columns": null,
      "grid_template_rows": null,
      "height": null,
      "justify_content": null,
      "justify_items": null,
      "left": null,
      "margin": null,
      "max_height": null,
      "max_width": null,
      "min_height": null,
      "min_width": null,
      "object_fit": null,
      "object_position": null,
      "order": null,
      "overflow": null,
      "overflow_x": null,
      "overflow_y": null,
      "padding": null,
      "right": null,
      "top": null,
      "visibility": null,
      "width": null
     }
    },
    "7d238166caf64537ad9aa2040dcdc1ec": {
     "model_module": "@jupyter-widgets/controls",
     "model_module_version": "1.5.0",
     "model_name": "DescriptionStyleModel",
     "state": {
      "_model_module": "@jupyter-widgets/controls",
      "_model_module_version": "1.5.0",
      "_model_name": "DescriptionStyleModel",
      "_view_count": null,
      "_view_module": "@jupyter-widgets/base",
      "_view_module_version": "1.2.0",
      "_view_name": "StyleView",
      "description_width": ""
     }
    },
    "95c5696493db48738dbdc9940acec1d8": {
     "model_module": "@jupyter-widgets/controls",
     "model_module_version": "1.5.0",
     "model_name": "HTMLModel",
     "state": {
      "_dom_classes": [],
      "_model_module": "@jupyter-widgets/controls",
      "_model_module_version": "1.5.0",
      "_model_name": "HTMLModel",
      "_view_count": null,
      "_view_module": "@jupyter-widgets/controls",
      "_view_module_version": "1.5.0",
      "_view_name": "HTMLView",
      "description": "",
      "description_tooltip": null,
      "layout": "IPY_MODEL_22bb21a6c57a413fb7374efe31349e6e",
      "placeholder": "​",
      "style": "IPY_MODEL_18b20091dbf64b129824a8fb3266e3c0",
      "value": "100%"
     }
    },
    "9bad0d6a00c14229b0d776a2cfe15090": {
     "model_module": "@jupyter-widgets/base",
     "model_module_version": "1.2.0",
     "model_name": "LayoutModel",
     "state": {
      "_model_module": "@jupyter-widgets/base",
      "_model_module_version": "1.2.0",
      "_model_name": "LayoutModel",
      "_view_count": null,
      "_view_module": "@jupyter-widgets/base",
      "_view_module_version": "1.2.0",
      "_view_name": "LayoutView",
      "align_content": null,
      "align_items": null,
      "align_self": null,
      "border": null,
      "bottom": null,
      "display": null,
      "flex": null,
      "flex_flow": null,
      "grid_area": null,
      "grid_auto_columns": null,
      "grid_auto_flow": null,
      "grid_auto_rows": null,
      "grid_column": null,
      "grid_gap": null,
      "grid_row": null,
      "grid_template_areas": null,
      "grid_template_columns": null,
      "grid_template_rows": null,
      "height": null,
      "justify_content": null,
      "justify_items": null,
      "left": null,
      "margin": null,
      "max_height": null,
      "max_width": null,
      "min_height": null,
      "min_width": null,
      "object_fit": null,
      "object_position": null,
      "order": null,
      "overflow": null,
      "overflow_x": null,
      "overflow_y": null,
      "padding": null,
      "right": null,
      "top": null,
      "visibility": null,
      "width": null
     }
    },
    "aa9da821ba0c42b5b051355e50e691f0": {
     "model_module": "@jupyter-widgets/controls",
     "model_module_version": "1.5.0",
     "model_name": "HBoxModel",
     "state": {
      "_dom_classes": [],
      "_model_module": "@jupyter-widgets/controls",
      "_model_module_version": "1.5.0",
      "_model_name": "HBoxModel",
      "_view_count": null,
      "_view_module": "@jupyter-widgets/controls",
      "_view_module_version": "1.5.0",
      "_view_name": "HBoxView",
      "box_style": "",
      "children": [
       "IPY_MODEL_95c5696493db48738dbdc9940acec1d8",
       "IPY_MODEL_fe515a1f743f49d0b251b43919d52a8e",
       "IPY_MODEL_f4f339c969fd4e21bc683ecb2567897b"
      ],
      "layout": "IPY_MODEL_17b2be81159e41f1a5c6bb966516572e"
     }
    },
    "cd991379661b4b4ab405bf66f75c6834": {
     "model_module": "@jupyter-widgets/base",
     "model_module_version": "1.2.0",
     "model_name": "LayoutModel",
     "state": {
      "_model_module": "@jupyter-widgets/base",
      "_model_module_version": "1.2.0",
      "_model_name": "LayoutModel",
      "_view_count": null,
      "_view_module": "@jupyter-widgets/base",
      "_view_module_version": "1.2.0",
      "_view_name": "LayoutView",
      "align_content": null,
      "align_items": null,
      "align_self": null,
      "border": null,
      "bottom": null,
      "display": null,
      "flex": null,
      "flex_flow": null,
      "grid_area": null,
      "grid_auto_columns": null,
      "grid_auto_flow": null,
      "grid_auto_rows": null,
      "grid_column": null,
      "grid_gap": null,
      "grid_row": null,
      "grid_template_areas": null,
      "grid_template_columns": null,
      "grid_template_rows": null,
      "height": null,
      "justify_content": null,
      "justify_items": null,
      "left": null,
      "margin": null,
      "max_height": null,
      "max_width": null,
      "min_height": null,
      "min_width": null,
      "object_fit": null,
      "object_position": null,
      "order": null,
      "overflow": null,
      "overflow_x": null,
      "overflow_y": null,
      "padding": null,
      "right": null,
      "top": null,
      "visibility": null,
      "width": null
     }
    },
    "f4f339c969fd4e21bc683ecb2567897b": {
     "model_module": "@jupyter-widgets/controls",
     "model_module_version": "1.5.0",
     "model_name": "HTMLModel",
     "state": {
      "_dom_classes": [],
      "_model_module": "@jupyter-widgets/controls",
      "_model_module_version": "1.5.0",
      "_model_name": "HTMLModel",
      "_view_count": null,
      "_view_module": "@jupyter-widgets/controls",
      "_view_module_version": "1.5.0",
      "_view_name": "HTMLView",
      "description": "",
      "description_tooltip": null,
      "layout": "IPY_MODEL_cd991379661b4b4ab405bf66f75c6834",
      "placeholder": "​",
      "style": "IPY_MODEL_7d238166caf64537ad9aa2040dcdc1ec",
      "value": " 170498071/170498071 [00:13&lt;00:00, 13339884.37it/s]"
     }
    },
    "fe515a1f743f49d0b251b43919d52a8e": {
     "model_module": "@jupyter-widgets/controls",
     "model_module_version": "1.5.0",
     "model_name": "FloatProgressModel",
     "state": {
      "_dom_classes": [],
      "_model_module": "@jupyter-widgets/controls",
      "_model_module_version": "1.5.0",
      "_model_name": "FloatProgressModel",
      "_view_count": null,
      "_view_module": "@jupyter-widgets/controls",
      "_view_module_version": "1.5.0",
      "_view_name": "ProgressView",
      "bar_style": "success",
      "description": "",
      "description_tooltip": null,
      "layout": "IPY_MODEL_9bad0d6a00c14229b0d776a2cfe15090",
      "max": 170498071,
      "min": 0,
      "orientation": "horizontal",
      "style": "IPY_MODEL_0fee9f5b7bdb4129a71ef0cfe9d3b1fa",
      "value": 170498071
     }
    }
   }
  }
 },
 "nbformat": 4,
 "nbformat_minor": 1
}
